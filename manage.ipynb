{
 "cells": [
  {
   "cell_type": "code",
   "execution_count": 6,
   "metadata": {},
   "outputs": [],
   "source": [
    "import numpy as np\n",
    "import matplotlib.pyplot as plt\n",
    "from utils import get_data\n",
    "from classes import Net"
   ]
  },
  {
   "cell_type": "code",
   "execution_count": null,
   "metadata": {},
   "outputs": [],
   "source": [
    "get_data()\n",
    "\n",
    "# load and normalize images\n",
    "images = np.load('data/computer_images.npy')/255\n",
    "labels = np.load('data/computer_labels.npy')\n",
    "handwritten_train_images = np.load('data/handwritten_train_images.npy')/255\n",
    "handwritten_train_labels = np.load('handwritten_train_labels.npy')\n",
    "handwritten_test_images = np.load('handwritten_test_images.npy')/255\n",
    "handwritten_test_labels = np.load('handwritten_test_labels.npy')\n",
    "\n",
    "# shuffle the computer-digit images and put them in train and test sets\n",
    "indices = np.random.permutation(np.arange(images.shape[0]))\n",
    "computer_train_images = images[indices[:int(len(labels)*0.8)]]\n",
    "computer_test_images = images[indices[int(len(labels)*0.8):]]\n",
    "computer_train_labels = labels[indices[:int(len(labels)*0.8)]]\n",
    "computer_test_labels = labels[indices[int(len(labels)*0.8):]]\n",
    "\n",
    "# store the images a dictionary for plugging into the model\n",
    "images = {'computer': {'train': computer_train_images, 'test': computer_test_images},\n",
    "          'handwritten': {'train': handwritten_train_images, 'test': handwritten_test_images}}\n",
    "labels = {'computer': {'train': computer_train_labels, 'test': computer_test_labels},\n",
    "          'handwritten': {'train': handwritten_train_labels, 'test': handwritten_test_labels}}"
   ]
  },
  {
   "cell_type": "code",
   "execution_count": null,
   "metadata": {},
   "outputs": [],
   "source": [
    "model = Net(adapter_lr=3e-6, discriminator_lr=3e-6, classifier_lr=3e-6)"
   ]
  },
  {
   "cell_type": "code",
   "execution_count": null,
   "metadata": {},
   "outputs": [],
   "source": [
    "model.fit(200000, images, labels, batch_size=1024, print_every=200)"
   ]
  }
 ],
 "metadata": {
  "kernelspec": {
   "display_name": "Python 3",
   "language": "python",
   "name": "python3"
  },
  "language_info": {
   "codemirror_mode": {
    "name": "ipython",
    "version": 3
   },
   "file_extension": ".py",
   "mimetype": "text/x-python",
   "name": "python",
   "nbconvert_exporter": "python",
   "pygments_lexer": "ipython3",
   "version": "3.6.8"
  }
 },
 "nbformat": 4,
 "nbformat_minor": 2
}
